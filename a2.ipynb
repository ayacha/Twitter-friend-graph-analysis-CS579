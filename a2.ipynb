{
 "metadata": {
  "name": "",
  "signature": "sha256:3a8755af07be0af9c41fe3b8cecbff9ce9ac2fbab625af0e171128ac11cc2382"
 },
 "nbformat": 3,
 "nbformat_minor": 0,
 "worksheets": [
  {
   "cells": [
    {
     "cell_type": "markdown",
     "metadata": {},
     "source": [
      "# CS579: Assignment 2"
     ]
    },
    {
     "cell_type": "markdown",
     "metadata": {},
     "source": [
      "**Follow the instructions below to continue our analysis of the Twitter Senator data. I have provided a larger snapshot of the network (all connections between 88 Senators).**\n",
      "\n",
      "**In addition to the code to complete, there are also several short answer questions for you to complete. Please enter your answers in the `.ipynb` file directly below the question.**"
     ]
    },
    {
     "cell_type": "markdown",
     "metadata": {},
     "source": [
      "There are at least two ways of collecting Twitter friend information:\n",
      "  - **Option 1:** [friends/list](https://dev.twitter.com/docs/api/1.1/get/friends/list)\n",
      "  - **Option 2:** [friendships/show](https://dev.twitter.com/docs/api/1.1/get/friendships/show)\n",
      "\n",
      "Option 1 is limited to return at most 200 friends per request, while Option 2 queries the friendship between a single pair of users. \n",
      "\n",
      "The other difference: The Twitter rate limit for Option 1 is 15 queries per 15 minutes; for Option 2, it is 180 queries per 15 minutes.\n",
      "\n",
      "Assume like in [A1](https://github.com/iit-cs579/main/tree/master/asg/a1) we want to determine if there is an edge between a pair of senators (an edge exists between A and B if A follows B or B follows A). Rather than limiting ourselves to the first 200 friends of each user, we want to compute the true graph (using all existing links). We will use the `robust_request` method, which sleeps for 15 minutes whenever a rate limit is reached.\n",
      "\n",
      "### 1) If we have $N$ senators, and we assume that each senator follows $K$ users on average, compute the total number of hours it will take to determine the friendship graph using each method. (I'm only concerned about Twitter API time, not algorithmic complexity!)\n",
      "\n",
      "Option 1:\n",
      "    We will have N * K friends to retrieve, so we need N * K / 200 requests, and N * K * 15 / (200 * 15 * 60) hours to get all requests, equals N * K / 200 * 60.\n",
      "  \n",
      "Option 2:\n",
      "    Here we don\u2019t have to retrieve the whole N * K links. So assuming a complete graph between senators, we need to check (N)*(N-1) / 2 links or requests. Thus, we need (N)*(N-1) * 15 / (2 * 180) minutes as maximum, equals to (N)*(N-1) * 15 / (2 * 180 * 60) hours.\n",
      "\n",
      "### 2) For what values should we prefer Option 1 vs. Option 2? \n",
      "\n",
      "It depends, if we have a very big number of N, option 1 is better, however with small number of senators it is preferable to use option 2,\n",
      "  if K < (N-1) * 15 / 2 use option 1\n",
      "  else use option 2\n",
      "  P.S. I used 180/200 approximation"
     ]
    },
    {
     "cell_type": "code",
     "collapsed": false,
     "input": [],
     "language": "python",
     "metadata": {},
     "outputs": [],
     "prompt_number": 0
    },
    {
     "cell_type": "code",
     "collapsed": false,
     "input": [
      "import networkx as nx\n",
      "def read_senator_edges(filename):\n",
      "    ins = open(filename)\n",
      "    array = []\n",
      "    G= nx.Graph()\n",
      "\n",
      "    for line in ins:\n",
      "        s1 = line.replace('\\n', '').split('\\t')[0]\n",
      "        s2 = line.replace('\\n', '').split('\\t')[1]\n",
      "        G.add_edges_from([(s1,s2)])\n",
      "    G.to_undirected()\n",
      "    return G\n",
      "    \n",
      "graph = read_senator_edges('senator_edges.txt')\n",
      "print 'read %d nodes and %d edges' % (len(graph.nodes()), len(graph.edges()))"
     ],
     "language": "python",
     "metadata": {},
     "outputs": [
      {
       "output_type": "stream",
       "stream": "stdout",
       "text": [
        "read 88 nodes and 2071 edges\n"
       ]
      }
     ],
     "prompt_number": 1
    },
    {
     "cell_type": "code",
     "collapsed": false,
     "input": [
      "import matplotlib.pyplot as plt\n",
      "import numpy as np\n",
      "\n",
      "def degree(graph):\n",
      "    List = []\n",
      "    for node in graph.nodes():\n",
      "        List.append(graph.degree(node))\n",
      "    return List\n",
      "    \n",
      "def clustering_coef(graph):\n",
      "    List = []\n",
      "    for node in graph.nodes():\n",
      "        List.append(nx.clustering(graph,node))\n",
      "    return List\n",
      "\n",
      "def distance(graph):\n",
      "    List = []\n",
      "    for node in graph.nodes():\n",
      "        avg = 0\n",
      "        tmpDictValues = nx.shortest_path_length(graph,source=node).values()\n",
      "        for length in tmpDictValues:\n",
      "            avg = avg + length\n",
      "        avg =  1. *avg / len(tmpDictValues)\n",
      "        List.append(avg)\n",
      "    return List\n",
      "   \n",
      "def plot_property_histogram(graph, property_fn, xlabel, ylabel='Count', bins=10):\n",
      "    \n",
      "    measures_list = property_fn(graph)\n",
      "    measure_counts = Counter(measures_list)\n",
      "    \n",
      "    c = [(d, count) for d, count in measure_counts.iteritems()]\n",
      "    \n",
      "    ks = [x[0] for x in c]\n",
      "    x_pos = ks\n",
      "    \n",
      "    plt.xlabel(xlabel)\n",
      "    plt.ylabel(ylabel)\n",
      "    plt.bar(x_pos, [x[1] for x in c], align='center', alpha=0.4)\n",
      "    plt.locator_params(nbins=bins) \n",
      "    plt.title('mean=%.2f' % np.mean(measures_list))\n",
      "    pass"
     ],
     "language": "python",
     "metadata": {},
     "outputs": [],
     "prompt_number": 2
    },
    {
     "cell_type": "code",
     "collapsed": false,
     "input": [
      "# Plot the degree distribution.\n",
      "# Note this will be a histogram of counts, rather than P(k) like we've done in the past.\n",
      "from collections import Counter\n",
      "import numpy as np\n",
      "\n",
      "degree1 = degree(graph)\n",
      "plot_property_histogram(graph, degree, 'Degree')"
     ],
     "language": "python",
     "metadata": {},
     "outputs": [
      {
       "metadata": {},
       "output_type": "display_data",
       "png": "[encoded data removed]",
       "text": [
        "<matplotlib.figure.Figure at 0x100632cd0>"
       ]
      }
     ],
     "prompt_number": 3
    },
    {
     "cell_type": "markdown",
     "metadata": {},
     "source": [
      "### 3) In class, we found that the degree distribution exhibited a \"long tail.\" The plot above does not appear to exhibit the same degree of skew. What are the differences between this network and the one from class that might explain this?\n",
      "\n",
      "As we are dealing with senators edges, the resulting graph will be well connected due to shared interests and the popularity of the senators."
     ]
    },
    {
     "cell_type": "code",
     "collapsed": false,
     "input": [
      "# Plot the Clustering Coefficient distribution.\n",
      "plot_property_histogram(graph, clustering_coef, 'Clustering Coefficient')"
     ],
     "language": "python",
     "metadata": {},
     "outputs": [
      {
       "metadata": {},
       "output_type": "display_data",
       "png": "[encoded data removed]",
       "text": [
        "<matplotlib.figure.Figure at 0x10604a7d0>"
       ]
      }
     ],
     "prompt_number": 4
    },
    {
     "cell_type": "code",
     "collapsed": false,
     "input": [
      "# Plot the distance distribution.\n",
      "plot_property_histogram(graph, distance, 'Mean Shortest Path')"
     ],
     "language": "python",
     "metadata": {},
     "outputs": [
      {
       "metadata": {},
       "output_type": "display_data",
       "png": "[encoded data removed]",
       "text": [
        "<matplotlib.figure.Figure at 0x10697e810>"
       ]
      }
     ],
     "prompt_number": 5
    },
    {
     "cell_type": "code",
     "collapsed": false,
     "input": [
      "# Which node has the highest degree?\n",
      "def get_node_with_highest_degree(graph):\n",
      "    max = 0\n",
      "    n = graph.nodes()[1]\n",
      "    for node in graph.nodes():\n",
      "        d = graph.degree(node)\n",
      "        if d>max:\n",
      "            max = d\n",
      "            n = node\n",
      "    \n",
      "    return n\n",
      "            \n",
      "max_degree_node = get_node_with_highest_degree(graph)            \n",
      "print 'Max degree node is %s with degree %d' % (max_degree_node, graph.degree(max_degree_node))"
     ],
     "language": "python",
     "metadata": {},
     "outputs": [
      {
       "output_type": "stream",
       "stream": "stdout",
       "text": [
        "Max degree node is SenDeanHeller with degree 83\n"
       ]
      }
     ],
     "prompt_number": 6
    },
    {
     "cell_type": "code",
     "collapsed": false,
     "input": [
      "# Which node has the lowest degree?\n",
      "def get_node_with_lowest_degree(graph):\n",
      "    min = 9999\n",
      "    n = graph.nodes()[1]\n",
      "    for node in graph.nodes():\n",
      "        d = graph.degree(node)\n",
      "        if d<min:\n",
      "            min = d\n",
      "            n = node\n",
      "    \n",
      "    return n            \n",
      "min_degree_node = get_node_with_lowest_degree(graph)            \n",
      "print 'Min degree node is %s with degree %d' % (min_degree_node, graph.degree(min_degree_node))"
     ],
     "language": "python",
     "metadata": {},
     "outputs": [
      {
       "output_type": "stream",
       "stream": "stdout",
       "text": [
        "Min degree node is ChuckSchumer with degree 4\n"
       ]
      }
     ],
     "prompt_number": 7
    },
    {
     "cell_type": "code",
     "collapsed": false,
     "input": [
      "# Next we'll compute two functions over paths.\n",
      "\n",
      "def shortest_path(graph, source, target):\n",
      "    return nx.shortest_path(graph,source,target)\n",
      "\n",
      "def path_of_length(graph, source, target, length):\n",
      "# I don't know why it is not working\n",
      "    for path in nx.all_simple_paths(graph, source=source, target=target, cutoff=5):\n",
      "        if len(path)==length+1 :\n",
      "            return path\n",
      "    return None\n",
      "    \n",
      "print 'shortest path from SenatorHarkin and SenRandPaul is', \\\n",
      "    shortest_path(graph, 'SenatorHarkin', 'SenRandPaul')\n",
      "print 'path of length 4 from SenatorHarkin and SenRandPaul is', \\\n",
      "    path_of_length(graph, 'SenatorHarkin', 'SenRandPaul', 4)\n"
     ],
     "language": "python",
     "metadata": {},
     "outputs": [
      {
       "output_type": "stream",
       "stream": "stdout",
       "text": [
        "shortest path from SenatorHarkin and SenRandPaul is ['SenatorHarkin', 'SenAlexander', 'SenRandPaul']\n",
        "path of length 4 from SenatorHarkin and SenRandPaul is ['SenatorHarkin', 'MarkUdall', 'InhofePress', 'SenAlexander', 'SenRandPaul']\n"
       ]
      }
     ],
     "prompt_number": 8
    },
    {
     "cell_type": "markdown",
     "metadata": {},
     "source": [
      "<br><br>\n",
      "**Next, we'll generate synthetic graphs and compare their properties to the senator network.**\n",
      "<br><br>"
     ]
    },
    {
     "cell_type": "code",
     "collapsed": false,
     "input": [
      "def regular_graph(n, k):\n",
      "    if k==1 or (k*n) % 2 == 1 or (k%2 ==1 and n%k==0):\n",
      "        print 'error'\n",
      "        return None\n",
      "    \n",
      "    G = nx.Graph()\n",
      "    G.add_nodes_from(range(1,n+1))\n",
      "    \n",
      "    if k%2 == 0:\n",
      "        for i in range(1, n+1):\n",
      "            for j in range(i+1, i+k/2+1):\n",
      "                if j>n:\n",
      "                    G.add_edge(i, j%n)\n",
      "                else:\n",
      "                    G.add_edge(i, j)\n",
      "\n",
      "    if k%2 ==1:\n",
      "        bigger = k/2 +1\n",
      "        smaller = k/2\n",
      "        bigger_flag = 0\n",
      "        \n",
      "        for i in range(1, n+1):\n",
      "            if i%bigger ==1:\n",
      "                if bigger_flag == 0:\n",
      "                    bigger_flag = 1\n",
      "                else:\n",
      "                    bigger_flag = 0\n",
      "                    \n",
      "            if bigger_flag == 1:\n",
      "                for j in range(i+1, i+bigger+1):\n",
      "                    if j>n:\n",
      "                        G.add_edge(i, j%n)\n",
      "                    else:\n",
      "                        G.add_edge(i, j)\n",
      "            else:\n",
      "                for j in range(i+1, i+smaller+1):\n",
      "                    if j>n:\n",
      "                        G.add_edge(i, j%n)\n",
      "                    else:\n",
      "                        G.add_edge(i, j)\n",
      "    return G\n",
      "\n",
      "plt.clf()\n",
      "nx.draw(regular_graph(12, 5), with_labels=True)\n",
      "plt.savefig(\"regular_graph.png\")\n",
      "plt.show() "
     ],
     "language": "python",
     "metadata": {},
     "outputs": [
      {
       "metadata": {},
       "output_type": "display_data",
       "png": "[encoded data removed]",
       "text": [
        "<matplotlib.figure.Figure at 0x106378d10>"
       ]
      }
     ],
     "prompt_number": 9
    },
    {
     "cell_type": "code",
     "collapsed": false,
     "input": [
      "import random \n",
      "def rewire(G, p, seed=123):\n",
      "    \"\"\" With probability $p$, modify edge A-B to be edge A-C, where C is randomly chosen from the list of nodes (*excluding A*).\n",
      "    Modifies G directly, then returns it.\n",
      "    \n",
      "    You should fix two problems with my implementation in class:\n",
      "    1) Avoid adding a self loop (e.g., an edge from A-A).\n",
      "    2) Avoid adding duplicate edges.\n",
      "    Args:\n",
      "      G ...... A networkx graph\n",
      "      p ...... The probability of reqiring.\n",
      "      seed ... Seed for the random number generator.\n",
      "    Returns:\n",
      "      Modified version of G.\n",
      "    \"\"\"\n",
      "    \n",
      "    graph = G.copy()\n",
      "    random.seed(seed)\n",
      "    \n",
      "    for edge in graph.edges():\n",
      "        if random.random() < p:\n",
      "            graph.remove_edge(*edge)\n",
      "            \n",
      "            newEnd = random.randint(1, len(graph.nodes()))\n",
      "            graph.add_edge(edge[0], newEnd);\n",
      "            \n",
      "    return graph\n",
      "\n",
      "nx.draw(rewire(regular_graph(10, 2), .4), with_labels=True)"
     ],
     "language": "python",
     "metadata": {},
     "outputs": [
      {
       "metadata": {},
       "output_type": "display_data",
       "png": "[encoded data removed]",
       "text": [
        "<matplotlib.figure.Figure at 0x10604a9d0>"
       ]
      }
     ],
     "prompt_number": 10
    },
    {
     "cell_type": "code",
     "collapsed": false,
     "input": [
      "def plot_p_effect(N, k, pvals):\n",
      "    \"\"\" Plot the clustering coefficient and average pairwise distance for a\n",
      "    rewired graph with $N$ nodes with degree $k$ neighbors, trying different\n",
      "    values for $p$.\n",
      "    This method should call both regular_graph and rewire to generate graphs.\n",
      "    Note that the x-axis is on a log scale (plt.xscale('log'))\n",
      "    Args:\n",
      "      N ....... The number of nodes.\n",
      "      k ....... The number of neighbors per node.\n",
      "      pvals ... A list of values for $p$, the probability that an edge is rewired.\n",
      "    \"\"\"\n",
      "    distancesList = []\n",
      "    cluList = []\n",
      "    for val in pvals:\n",
      "        rewired = rewire(regular_graph(N, k), val)\n",
      "                \n",
      "        distanceAvg = 0\n",
      "        distances = distance(rewired)\n",
      "        for dis in distances:\n",
      "            distanceAvg = distanceAvg + dis\n",
      "        distanceAvg = 1. * distanceAvg /  len(distances)\n",
      "        distancesList.append(distanceAvg)\n",
      "                \n",
      "        cluAvg = 0\n",
      "        clusters = clustering_coef(rewired)\n",
      "        for clu in clusters:\n",
      "            cluAvg = cluAvg + clu\n",
      "        cluAvg = 1. * cluAvg / len(clusters)\n",
      "        cluList.append(cluAvg)\n",
      "        \n",
      "        print 'p=%.4f , clustering_coef=  %.2f ,  distance= %.2f' % (val, cluAvg, distanceAvg)\n",
      "    \n",
      "    x_pos = pvals\n",
      "    plt.xlabel('p')\n",
      "    plt.ylabel('distance')\n",
      "    plt.bar(x_pos, distancesList, align='center', alpha=0.4)\n",
      "  \n",
      "#    plt.ylabel('clustering_coef')\n",
      " #   plt.bar(x_pos, cluList, align='center', alpha=0.4)\n",
      "  #  plt.locator_params(nbins = 3)         \n",
      "        \n",
      "    pass\n",
      "\n",
      "plot_p_effect(graph.order(), 40, [1e-4, 1e-3, 1e-2, 1e-1, .2, .5, .7, .9, 1.])"
     ],
     "language": "python",
     "metadata": {},
     "outputs": [
      {
       "output_type": "stream",
       "stream": "stdout",
       "text": [
        "p=0.0001 , clustering_coef=  0.73 ,  distance= 1.60\n",
        "p=0.0010 , clustering_coef=  0.73 ,  distance= 1.60\n",
        "p=0.0100 , clustering_coef=  0.72 ,  distance= 1.58"
       ]
      },
      {
       "output_type": "stream",
       "stream": "stdout",
       "text": [
        "\n",
        "p=0.1000 , clustering_coef=  0.62 ,  distance= 1.55"
       ]
      },
      {
       "output_type": "stream",
       "stream": "stdout",
       "text": [
        "\n",
        "p=0.2000 , clustering_coef=  0.53 ,  distance= 1.56"
       ]
      },
      {
       "output_type": "stream",
       "stream": "stdout",
       "text": [
        "\n",
        "p=0.5000 , clustering_coef=  0.39 ,  distance= 1.61"
       ]
      },
      {
       "output_type": "stream",
       "stream": "stdout",
       "text": [
        "\n",
        "p=0.7000 , clustering_coef=  0.35 ,  distance= 1.64"
       ]
      },
      {
       "output_type": "stream",
       "stream": "stdout",
       "text": [
        "\n",
        "p=0.9000 , clustering_coef=  0.35 ,  distance= 1.65"
       ]
      },
      {
       "output_type": "stream",
       "stream": "stdout",
       "text": [
        "\n",
        "p=1.0000 , clustering_coef=  0.34 ,  distance= 1.66"
       ]
      },
      {
       "output_type": "stream",
       "stream": "stdout",
       "text": [
        "\n"
       ]
      },
      {
       "metadata": {},
       "output_type": "display_data",
       "png": "[encoded data removed]",
       "text": [
        "<matplotlib.figure.Figure at 0x106834f50>"
       ]
      }
     ],
     "prompt_number": 11
    },
    {
     "cell_type": "markdown",
     "metadata": {},
     "source": [
      "### 4) Which value of $p$ generates a graph that most closely matches the clustering coefficient of the senator network? Which value most closely matches the distance? Based on the graph, do you think there a better value for $p$ we should consider?\n",
      "\n",
      "smallest values in clustering coefficient and biggest values in distance\n",
      "I don't think there will be mucbetter because it becomes kind of flat at the end"
     ]
    },
    {
     "cell_type": "markdown",
     "metadata": {},
     "source": [
      "### 5) Describe a way to modify the rewire method to increase the clustering coefficient. Implement your proposed method below, and verify that the clustering coefficient increases. What effect does this have on average distance?\n",
      "If I could give better probability for some portion of the nodes that will increase the clustering coefficient, however, it will decrease the distance\n"
     ]
    },
    {
     "cell_type": "code",
     "collapsed": false,
     "input": [
      "def rewire_improved(G, p, seed=123):\n",
      "    \"\"\" Modify the rewire method to increase the clustering coefficient. \"\"\"\n",
      "    return G\n",
      "    \n",
      "### I leave it up to you to implement and verify. I have not provided any expected output for this part.\n",
      "    "
     ],
     "language": "python",
     "metadata": {},
     "outputs": [],
     "prompt_number": 321
    }
   ],
   "metadata": {}
  }
 ]
}